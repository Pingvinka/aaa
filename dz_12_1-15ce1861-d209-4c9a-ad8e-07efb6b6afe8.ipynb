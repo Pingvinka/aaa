{
  "nbformat": 4,
  "nbformat_minor": 0,
  "metadata": {
    "kernelspec": {
      "display_name": "Python 3",
      "language": "python",
      "name": "python3"
    },
    "language_info": {
      "codemirror_mode": {
        "name": "ipython",
        "version": 3
      },
      "file_extension": ".py",
      "mimetype": "text/x-python",
      "name": "python",
      "nbconvert_exporter": "python",
      "pygments_lexer": "ipython3",
      "version": "3.7.3"
    },
    "colab": {
      "provenance": []
    },
    "accelerator": "GPU"
  },
  "cells": [
    {
      "cell_type": "markdown",
      "metadata": {
        "id": "ItCJhRfkFJxJ"
      },
      "source": [
        "#Preparing Data"
      ]
    },
    {
      "cell_type": "markdown",
      "metadata": {
        "id": "wfJw7SZ4DN5x"
      },
      "source": [
        "Loading train and test data."
      ]
    },
    {
      "cell_type": "code",
      "metadata": {
        "id": "UWYIy8Z4DQ98",
        "colab": {
          "base_uri": "https://localhost:8080/"
        },
        "outputId": "630e88b6-dae7-4812-af75-75a9c74ff3d1"
      },
      "source": [
        "! wget -O task2_ru_training.tsv https://www.dropbox.com/s/2nvhmusyozfrrn9/train.tsv?dl=0\n",
        "! wget -O task2_ru_test.tsv https://www.dropbox.com/s/77s33v3q3q1i5mr/test.tsv?dl=0"
      ],
      "execution_count": null,
      "outputs": [
        {
          "output_type": "stream",
          "name": "stdout",
          "text": [
            "--2025-04-02 20:24:49--  https://www.dropbox.com/s/2nvhmusyozfrrn9/train.tsv?dl=0\n",
            "Resolving www.dropbox.com (www.dropbox.com)... 162.125.65.18, 2620:100:6021:18::a27d:4112\n",
            "Connecting to www.dropbox.com (www.dropbox.com)|162.125.65.18|:443... connected.\n",
            "HTTP request sent, awaiting response... 302 Found\n",
            "Location: https://www.dropbox.com/scl/fi/wwfpnhjsr6iav25qzc503/train.tsv?rlkey=oivvlhhxwi8wkyvbdumzyncki&dl=0 [following]\n",
            "--2025-04-02 20:24:49--  https://www.dropbox.com/scl/fi/wwfpnhjsr6iav25qzc503/train.tsv?rlkey=oivvlhhxwi8wkyvbdumzyncki&dl=0\n",
            "Reusing existing connection to www.dropbox.com:443.\n",
            "HTTP request sent, awaiting response... 302 Found\n",
            "Location: https://uc59a18cc397ba8e3cfd22ec08ef.dl.dropboxusercontent.com/cd/0/inline/CnFyLA5rEgXt0iKOlriwedAf7SaTKtQ-G6nzAnutnNaEErjHgcsU0NsValWaQRjA2Y-LytIsT-vVu5Lnuo4c1yeEOzjWWeYGRDaKOgbwww1XLIXpy4zcPpEXOYNhdS-t5Sc/file# [following]\n",
            "--2025-04-02 20:24:50--  https://uc59a18cc397ba8e3cfd22ec08ef.dl.dropboxusercontent.com/cd/0/inline/CnFyLA5rEgXt0iKOlriwedAf7SaTKtQ-G6nzAnutnNaEErjHgcsU0NsValWaQRjA2Y-LytIsT-vVu5Lnuo4c1yeEOzjWWeYGRDaKOgbwww1XLIXpy4zcPpEXOYNhdS-t5Sc/file\n",
            "Resolving uc59a18cc397ba8e3cfd22ec08ef.dl.dropboxusercontent.com (uc59a18cc397ba8e3cfd22ec08ef.dl.dropboxusercontent.com)... 162.125.65.15, 2620:100:6021:15::a27d:410f\n",
            "Connecting to uc59a18cc397ba8e3cfd22ec08ef.dl.dropboxusercontent.com (uc59a18cc397ba8e3cfd22ec08ef.dl.dropboxusercontent.com)|162.125.65.15|:443... connected.\n",
            "HTTP request sent, awaiting response... 200 OK\n",
            "Length: 2201389 (2.1M) [text/plain]\n",
            "Saving to: ‘task2_ru_training.tsv’\n",
            "\n",
            "task2_ru_training.t 100%[===================>]   2.10M  2.68MB/s    in 0.8s    \n",
            "\n",
            "2025-04-02 20:24:51 (2.68 MB/s) - ‘task2_ru_training.tsv’ saved [2201389/2201389]\n",
            "\n",
            "--2025-04-02 20:24:51--  https://www.dropbox.com/s/77s33v3q3q1i5mr/test.tsv?dl=0\n",
            "Resolving www.dropbox.com (www.dropbox.com)... 162.125.65.18, 2620:100:6021:18::a27d:4112\n",
            "Connecting to www.dropbox.com (www.dropbox.com)|162.125.65.18|:443... connected.\n",
            "HTTP request sent, awaiting response... 302 Found\n",
            "Location: https://www.dropbox.com/scl/fi/8z5sccwbqc5ke5y83nw2m/test.tsv?rlkey=epavqzddx3cgg33026t0gzxyc&dl=0 [following]\n",
            "--2025-04-02 20:24:52--  https://www.dropbox.com/scl/fi/8z5sccwbqc5ke5y83nw2m/test.tsv?rlkey=epavqzddx3cgg33026t0gzxyc&dl=0\n",
            "Reusing existing connection to www.dropbox.com:443.\n",
            "HTTP request sent, awaiting response... 302 Found\n",
            "Location: https://uc507931c2926eb4752455fddca2.dl.dropboxusercontent.com/cd/0/inline/CnFMjXGc-OSxiI75vRqTdxf7O39WvLs6N5kSB40fu_GVaSYXHwpmWigyx8AGJlqc2b8V3z8RWKpBTosNyY7xDCYlNg9Sj0DRRjucUarqLpK-LP7uTwsnLL5VqN955Rk7Hdk/file# [following]\n",
            "--2025-04-02 20:24:52--  https://uc507931c2926eb4752455fddca2.dl.dropboxusercontent.com/cd/0/inline/CnFMjXGc-OSxiI75vRqTdxf7O39WvLs6N5kSB40fu_GVaSYXHwpmWigyx8AGJlqc2b8V3z8RWKpBTosNyY7xDCYlNg9Sj0DRRjucUarqLpK-LP7uTwsnLL5VqN955Rk7Hdk/file\n",
            "Resolving uc507931c2926eb4752455fddca2.dl.dropboxusercontent.com (uc507931c2926eb4752455fddca2.dl.dropboxusercontent.com)... 162.125.65.15, 2620:100:6021:15::a27d:410f\n",
            "Connecting to uc507931c2926eb4752455fddca2.dl.dropboxusercontent.com (uc507931c2926eb4752455fddca2.dl.dropboxusercontent.com)|162.125.65.15|:443... connected.\n",
            "HTTP request sent, awaiting response... 200 OK\n",
            "Length: 379309 (370K) [text/plain]\n",
            "Saving to: ‘task2_ru_test.tsv’\n",
            "\n",
            "task2_ru_test.tsv   100%[===================>] 370.42K  --.-KB/s    in 0.02s   \n",
            "\n",
            "2025-04-02 20:24:53 (20.7 MB/s) - ‘task2_ru_test.tsv’ saved [379309/379309]\n",
            "\n"
          ]
        }
      ]
    },
    {
      "cell_type": "markdown",
      "metadata": {
        "id": "aezYXyaP67G5"
      },
      "source": [
        "### Splitting train and dev sets into train, dev, and test"
      ]
    },
    {
      "cell_type": "code",
      "metadata": {
        "id": "2soYNev367G7"
      },
      "source": [
        "import os\n",
        "import pandas as pd\n",
        "from sklearn.model_selection import train_test_split"
      ],
      "execution_count": null,
      "outputs": []
    },
    {
      "cell_type": "code",
      "metadata": {
        "id": "EDa3bZ-767HK"
      },
      "source": [
        "train_path = r\"task2_ru_training.tsv\"\n",
        "test_path = r\"task2_ru_test.tsv\"\n",
        "res_dataset_dir = r\"corpus_normalized/\"\n",
        "if not os.path.exists(res_dataset_dir):\n",
        "    os.makedirs(res_dataset_dir)"
      ],
      "execution_count": null,
      "outputs": []
    },
    {
      "cell_type": "code",
      "metadata": {
        "id": "j8_EdIpn67HV",
        "colab": {
          "base_uri": "https://localhost:8080/"
        },
        "outputId": "ca418088-1906-4758-db99-a57c66345e78"
      },
      "source": [
        "train_df = pd.read_csv(train_path, sep=\",\", encoding=\"utf-8\")\n",
        "test_df = pd.read_csv(test_path, sep=\",\", encoding=\"utf-8\")\n",
        "train_df, dev_df, _, _ = \\\n",
        "    train_test_split(train_df, train_df, test_size=0.15, random_state=42)\n",
        "\n",
        "train_positive_class_df = train_df[train_df['class'] == 1]\n",
        "train_negative_class_df = train_df[train_df['class'] == 0]\n",
        "num_positive_examples = train_positive_class_df.shape[0]\n",
        "# For training set, we take the same amount of positive and negative examples\n",
        "train_negative_class_df = train_negative_class_df.sample(num_positive_examples, )\n",
        "# Concatenating positive and negative examples and shuffling the training set\n",
        "class_normalized_train_df = pd.concat([train_positive_class_df, train_negative_class_df]).sample(frac=1)\n",
        "\n",
        "\n",
        "out_train_path = os.path.join(res_dataset_dir, \"train.tsv\")\n",
        "out_test_path = os.path.join(res_dataset_dir, \"test.tsv\")\n",
        "out_dev_path = os.path.join(res_dataset_dir, \"dev.tsv\")\n",
        "\n",
        "# class_normalized_train_df.to_csv(out_train_path, sep=\"\\t\", encoding=\"utf-8\", index=False, )\n",
        "train_df.to_csv(out_train_path, sep=\"\\t\", encoding=\"utf-8\", index=False,)\n",
        "test_df.to_csv(out_test_path, sep=\"\\t\", encoding=\"utf-8\", index=False)\n",
        "dev_df.to_csv(out_dev_path, sep=\"\\t\", encoding=\"utf-8\", index=False, )\n",
        "\n",
        "print(train_df.shape)\n",
        "print(dev_df.shape)"
      ],
      "execution_count": null,
      "outputs": [
        {
          "output_type": "stream",
          "name": "stdout",
          "text": [
            "(8087, 3)\n",
            "(1428, 3)\n"
          ]
        }
      ]
    },
    {
      "cell_type": "markdown",
      "metadata": {
        "id": "QRIy0Nzt67IZ"
      },
      "source": [
        "### Preprocessing\n",
        "\n",
        "Preprocessing is adopted from:\n",
        "\n",
        "https://github.com/akutuzov/webvectors/blob/master/preprocessing/modular_processing/unify.py\n",
        "\n",
        "We unify letters to decrease the size of dictionary. We also unify and remove all punctuation."
      ]
    },
    {
      "cell_type": "code",
      "metadata": {
        "id": "8atWRqxj67Ia"
      },
      "source": [
        "import re\n",
        "def list_replace(search, replacement, text):\n",
        "    \"\"\"\n",
        "    Replaces all symbols of text which are present\n",
        "    in the search string with the replacement string.\n",
        "    \"\"\"\n",
        "    search = [el for el in search if el in text]\n",
        "    for c in search:\n",
        "        text = text.replace(c, replacement)\n",
        "    return text\n",
        "\n",
        "def clean_text(text):\n",
        "\n",
        "    text = list_replace \\\n",
        "        ('\\u00AB\\u00BB\\u2039\\u203A\\u201E\\u201A\\u201C\\u201F\\u2018\\u201B\\u201D\\u2019', '\\u0022', text)\n",
        "\n",
        "    text = list_replace \\\n",
        "        ('\\u2012\\u2013\\u2014\\u2015\\u203E\\u0305\\u00AF', '\\u2003\\u002D\\u002D\\u2003', text)\n",
        "\n",
        "    text = list_replace('\\u2010\\u2011', '\\u002D', text)\n",
        "\n",
        "    text = list_replace \\\n",
        "            (\n",
        "            '\\u2000\\u2001\\u2002\\u2004\\u2005\\u2006\\u2007\\u2008\\u2009\\u200A\\u200B\\u202F\\u205F\\u2060\\u3000',\n",
        "            '\\u2002', text)\n",
        "\n",
        "    text = re.sub('\\u2003\\u2003', '\\u2003', text)\n",
        "    text = re.sub('\\t\\t', '\\t', text)\n",
        "\n",
        "    text = list_replace \\\n",
        "            (\n",
        "            '\\u02CC\\u0307\\u0323\\u2022\\u2023\\u2043\\u204C\\u204D\\u2219\\u25E6\\u00B7\\u00D7\\u22C5\\u2219\\u2062',\n",
        "            '.', text)\n",
        "\n",
        "    text = list_replace('\\u2217', '\\u002A', text)\n",
        "\n",
        "    text = list_replace('…', '...', text)\n",
        "\n",
        "    text = list_replace('\\u00C4', 'A', text)\n",
        "    text = list_replace('\\u00E4', 'a', text)\n",
        "    text = list_replace('\\u00CB', 'E', text)\n",
        "    text = list_replace('\\u00EB', 'e', text)\n",
        "    text = list_replace('\\u1E26', 'H', text)\n",
        "    text = list_replace('\\u1E27', 'h', text)\n",
        "    text = list_replace('\\u00CF', 'I', text)\n",
        "    text = list_replace('\\u00EF', 'i', text)\n",
        "    text = list_replace('\\u00D6', 'O', text)\n",
        "    text = list_replace('\\u00F6', 'o', text)\n",
        "    text = list_replace('\\u00DC', 'U', text)\n",
        "    text = list_replace('\\u00FC', 'u', text)\n",
        "    text = list_replace('\\u0178', 'Y', text)\n",
        "    text = list_replace('\\u00FF', 'y', text)\n",
        "    text = list_replace('\\u00DF', 's', text)\n",
        "    text = list_replace('\\u1E9E', 'S', text)\n",
        "    # Removing punctuation\n",
        "    text = list_replace(',.[]{}()=+-−*&^%$#@!~;:§/\\|\\?\"\\n', ' ', text)\n",
        "    # Replacing all numbers with masks\n",
        "    text = list_replace('0123456789', 'x', text)\n",
        "\n",
        "    currencies = list \\\n",
        "            (\n",
        "            '\\u20BD\\u0024\\u00A3\\u20A4\\u20AC\\u20AA\\u2133\\u20BE\\u00A2\\u058F\\u0BF9\\u20BC\\u20A1\\u20A0\\u20B4\\u20A7\\u20B0\\u20BF\\u20A3\\u060B\\u0E3F\\u20A9\\u20B4\\u20B2\\u0192\\u20AB\\u00A5\\u20AD\\u20A1\\u20BA\\u20A6\\u20B1\\uFDFC\\u17DB\\u20B9\\u20A8\\u20B5\\u09F3\\u20B8\\u20AE\\u0192'\n",
        "        )\n",
        "\n",
        "    alphabet = list \\\n",
        "            (\n",
        "            '\\t\\r абвгдеёзжийклмнопрстуфхцчшщьыъэюяАБВГДЕЁЗЖИЙКЛМНОПРСТУФХЦЧШЩЬЫЪЭЮЯabcdefghijklmnopqrstuvwxyzABCDEFGHIJKLMNOPQRSTUVWXYZ ')\n",
        "\n",
        "    allowed = set(currencies + alphabet)\n",
        "\n",
        "    cleaned_text = [sym for sym in text if sym in allowed]\n",
        "    cleaned_text = ''.join(cleaned_text)\n",
        "\n",
        "    return cleaned_text.lower()"
      ],
      "execution_count": null,
      "outputs": []
    },
    {
      "cell_type": "code",
      "metadata": {
        "id": "y7A4Z8xQ67If"
      },
      "source": [
        "train_path = r\"corpus_normalized/train.tsv\"\n",
        "dev_path = r\"corpus_normalized/dev.tsv\"\n",
        "test_path = r\"corpus_normalized/test.tsv\"\n",
        "\n",
        "# Loading data\n",
        "train_df = pd.read_csv(train_path, sep='\\t', encoding=\"utf-8\",)\n",
        "dev_df = pd.read_csv(dev_path, sep='\\t', encoding=\"utf-8\",)\n",
        "test_df = pd.read_csv(test_path, sep='\\t', encoding=\"utf-8\",)\n",
        "\n",
        "# Extracting tweet texts\n",
        "train_tweet_texts = train_df.tweet.values\n",
        "test_tweet_texts = test_df.tweet.values\n",
        "dev_tweet_texts = dev_df.tweet.values\n",
        "\n",
        "# Preprocessing training tweets\n",
        "cleaned_train_texts = []\n",
        "for tweet_text in train_tweet_texts:\n",
        "    cleaned_text = clean_text(tweet_text).lower()\n",
        "    split_cleaned_text = cleaned_text.split()\n",
        "    cleaned_train_texts.append(\" \".join(split_cleaned_text))\n",
        "\n",
        "# Preprocessing test tweets\n",
        "cleaned_test_texts = []\n",
        "for tweet_text in test_tweet_texts:\n",
        "    cleaned_text = clean_text(tweet_text)\n",
        "    cleaned_test_texts.append(\" \".join(cleaned_text.split()))\n",
        "\n",
        "# Preprocessing validation tweets\n",
        "cleaned_dev_texts = []\n",
        "for tweet_text in dev_tweet_texts:\n",
        "    cleaned_text = clean_text(tweet_text)\n",
        "    cleaned_dev_texts.append(\" \".join(cleaned_text.split()))\n",
        "\n",
        "train_df[\"clean_text\"] = cleaned_train_texts\n",
        "dev_df[\"clean_text\"] = cleaned_dev_texts\n",
        "test_df[\"clean_text\"] = cleaned_test_texts"
      ],
      "execution_count": null,
      "outputs": []
    },
    {
      "cell_type": "code",
      "source": [
        "from collections import Counter\n",
        "\n",
        "Counter(train_df['class'])"
      ],
      "metadata": {
        "colab": {
          "base_uri": "https://localhost:8080/"
        },
        "id": "pl5jJnRoV--D",
        "outputId": "49ebd400-be6c-492a-8192-9eb4a96a2aff"
      },
      "execution_count": null,
      "outputs": [
        {
          "output_type": "execute_result",
          "data": {
            "text/plain": [
              "Counter({0: 7368, 1: 719})"
            ]
          },
          "metadata": {},
          "execution_count": 353
        }
      ]
    },
    {
      "cell_type": "markdown",
      "metadata": {
        "id": "DR-LZpf6rIJr"
      },
      "source": [
        "### Модель"
      ]
    },
    {
      "cell_type": "code",
      "metadata": {
        "id": "P2yRF8jp1XY2"
      },
      "source": [
        "#!pip install transformers"
      ],
      "execution_count": null,
      "outputs": []
    },
    {
      "cell_type": "code",
      "metadata": {
        "id": "HahIap9b00AG"
      },
      "source": [
        "import torch.nn as nn\n",
        "from transformers import AutoTokenizer, AutoModel, get_linear_schedule_with_warmup\n",
        "import numpy as np\n",
        "from torch.utils.data import Dataset, DataLoader\n",
        "from torch.optim import AdamW"
      ],
      "execution_count": null,
      "outputs": []
    },
    {
      "cell_type": "code",
      "metadata": {
        "id": "wCJpoamjsL0-"
      },
      "source": [
        "PRE_TRAINED_MODEL_NAME = 'ai-forever/ruBert-base' #'Shakhovak/ruBertBase_attr'\n",
        "BATCH_SIZE = 32\n",
        "EPOCHS = 6\n",
        "LEARNING_RATE=2e-5\n",
        "NUM_WARMUP_STEPS=0"
      ],
      "execution_count": null,
      "outputs": []
    },
    {
      "cell_type": "code",
      "source": [
        "n_classes = 2"
      ],
      "metadata": {
        "id": "SNT_UYnYUXF_"
      },
      "execution_count": null,
      "outputs": []
    },
    {
      "cell_type": "code",
      "metadata": {
        "id": "Noe485H_rL7Z"
      },
      "source": [
        "class TwitterClassifier(nn.Module):\n",
        "  def __init__(self, n_classes):\n",
        "    super(TwitterClassifier, self).__init__()\n",
        "    self.bert = AutoModel.from_pretrained(PRE_TRAINED_MODEL_NAME)\n",
        "\n",
        "    self.drop = nn.Dropout(p=0.7)\n",
        "\n",
        "    self.out = nn.Linear(self.bert.config.hidden_size, n_classes)\n",
        "\n",
        "  def forward(self, input_ids, attention_mask):\n",
        "    outputs = self.bert(input_ids=input_ids,\n",
        "                         attention_mask=attention_mask)\n",
        "    # last_hidden_state_cls = outputs[0][:, 0, :]\n",
        "    last_hidden_state_cls = outputs['pooler_output']\n",
        "    output = self.drop(last_hidden_state_cls)\n",
        "    return self.out(output)"
      ],
      "execution_count": null,
      "outputs": []
    },
    {
      "cell_type": "code",
      "source": [
        "class TwitterClassifier(nn.Module):\n",
        "    def __init__(self, n_classes):\n",
        "        super(TwitterClassifier, self).__init__()\n",
        "        self.bert = AutoModel.from_pretrained(PRE_TRAINED_MODEL_NAME)\n",
        "        self.drop1 = nn.Dropout(p=0.3)\n",
        "        self.bn1 = nn.BatchNorm1d(self.bert.config.hidden_size)\n",
        "        self.linear = nn.Linear(self.bert.config.hidden_size, n_classes) #nn.Linear(self.bert.config.hidden_size, self.bert.config.hidden_size//2)\n",
        "        #self.activation = nn.GELU() #nn.LeakyReLU()\n",
        "        #self.drop2 = nn.Dropout(p=0.4)\n",
        "        #self.bn2 = nn.BatchNorm1d(self.bert.config.hidden_size//2)\n",
        "        #self.out = nn.Linear(self.bert.config.hidden_size//2, n_classes)\n",
        "\n",
        "    def forward(self, input_ids, attention_mask):\n",
        "        outputs = self.bert(input_ids=input_ids,\n",
        "                            attention_mask=attention_mask)\n",
        "\n",
        "        last_hidden_state_cls = outputs['pooler_output']\n",
        "        x = self.drop1(last_hidden_state_cls)\n",
        "        x = self.bn1(x)\n",
        "\n",
        "        x = self.linear(x)\n",
        "        #x = self.activation(x)\n",
        "        #x = self.drop2(x)\n",
        "        #x = self.bn2(x)\n",
        "\n",
        "        return x #self.out(x)"
      ],
      "metadata": {
        "id": "VUxUo_0hk3T3"
      },
      "execution_count": null,
      "outputs": []
    },
    {
      "cell_type": "code",
      "metadata": {
        "id": "_hzBWCjGKASQ"
      },
      "source": [
        "tokenizer = AutoTokenizer.from_pretrained(PRE_TRAINED_MODEL_NAME)\n",
        "train_tokenized = [tokenizer.encode(x, add_special_tokens=True) for x in cleaned_train_texts]\n",
        "dev_tokenized = [tokenizer.encode(x, add_special_tokens=True) for x in cleaned_dev_texts]\n",
        "test_tokenized = [tokenizer.encode(x, add_special_tokens=True) for x in cleaned_test_texts]"
      ],
      "execution_count": null,
      "outputs": []
    },
    {
      "cell_type": "code",
      "metadata": {
        "id": "KgN2fRe0KCMy",
        "colab": {
          "base_uri": "https://localhost:8080/"
        },
        "outputId": "092840ce-fb4f-4a30-ba2e-1577b21c5cd2"
      },
      "source": [
        "# находим самое длинное предложение\n",
        "train_max_len = 0\n",
        "for i in train_tokenized:\n",
        "    if len(i) > train_max_len:\n",
        "        train_max_len = len(i)\n",
        "\n",
        "dev_max_len = 0\n",
        "for i in dev_tokenized:\n",
        "    if len(i) > dev_max_len:\n",
        "        dev_max_len = len(i)\n",
        "\n",
        "test_max_len = 0\n",
        "for i in test_tokenized:\n",
        "    if len(i) > test_max_len:\n",
        "        test_max_len = len(i)\n",
        "\n",
        "print(train_max_len)\n",
        "print(dev_max_len)\n",
        "print(test_max_len)\n"
      ],
      "execution_count": null,
      "outputs": [
        {
          "output_type": "stream",
          "name": "stdout",
          "text": [
            "126\n",
            "77\n",
            "102\n"
          ]
        }
      ]
    },
    {
      "cell_type": "code",
      "source": [
        "class BalancedTwitterDataset(Dataset):\n",
        "    def __init__(self, df, tokenizer, max_len):\n",
        "        self.texts = df['clean_text'].values\n",
        "        self.targets = torch.tensor(df['label'].values, dtype=torch.long)\n",
        "        self.tokenizer = tokenizer\n",
        "        self.max_len = max_len\n",
        "\n",
        "    def __len__(self):\n",
        "        return len(self.texts)\n",
        "\n",
        "    def __getitem__(self, idx):\n",
        "        text = str(self.texts[idx])\n",
        "        encoding = self.tokenizer.encode_plus(\n",
        "            text,\n",
        "            add_special_tokens=True,\n",
        "            max_length=self.max_len,\n",
        "            padding='max_length',\n",
        "            truncation=True,\n",
        "            return_attention_mask=True,\n",
        "            return_tensors='pt',\n",
        "        )\n",
        "\n",
        "        return {\n",
        "            'input_ids': encoding['input_ids'].flatten(),\n",
        "            'attention_mask': encoding['attention_mask'].flatten(),\n",
        "            'targets': self.targets[idx]\n",
        "        }"
      ],
      "metadata": {
        "id": "OECJrW1NOtgX"
      },
      "execution_count": null,
      "outputs": []
    },
    {
      "cell_type": "code",
      "metadata": {
        "id": "0WdKhbed7XjS"
      },
      "source": [
        "class TwitterDataset(Dataset):\n",
        "  def __init__(self, ids, tweets, targets, tokenizer, max_len):\n",
        "    self.ids = ids\n",
        "    self.tweets = tweets\n",
        "    self.targets = targets\n",
        "    self.tokenizer = tokenizer\n",
        "    self.max_len = max_len\n",
        "\n",
        "  def __len__(self):\n",
        "    return len(self.tweets)\n",
        "\n",
        "  def __getitem__(self, item):\n",
        "    tweet = str(self.tweets[item])\n",
        "    target = self.targets[item]\n",
        "    id = self.ids[item]\n",
        "    encoding = self.tokenizer.encode_plus(\n",
        "      tweet,\n",
        "      add_special_tokens=True,\n",
        "      max_length=self.max_len,\n",
        "      return_token_type_ids=False,\n",
        "      padding='max_length',\n",
        "      return_attention_mask=True,\n",
        "      return_tensors='pt',\n",
        "      truncation=True,\n",
        "    )\n",
        "    return {\n",
        "      'id': id,\n",
        "      'tweet_text': tweet,\n",
        "      'input_ids': encoding['input_ids'].flatten(),\n",
        "      'attention_mask': encoding['attention_mask'].flatten(),\n",
        "      'targets': torch.tensor(target, dtype=torch.long)\n",
        "    }"
      ],
      "execution_count": null,
      "outputs": []
    },
    {
      "cell_type": "code",
      "metadata": {
        "id": "PriOOpje-ykn"
      },
      "source": [
        "def create_data_loader(df, tokenizer, batch_size, max_len):\n",
        "  if \"label\" in df:\n",
        "    labels = df.label.to_numpy()\n",
        "  else:\n",
        "    labels = [0] * len(df)\n",
        "  ds = TwitterDataset(\n",
        "    ids = df.id,\n",
        "    tweets=df.clean_text,\n",
        "    targets=labels,\n",
        "    tokenizer=tokenizer,\n",
        "    max_len=max_len\n",
        "  )\n",
        "  return DataLoader(\n",
        "    ds,\n",
        "    batch_size=batch_size,\n",
        "    num_workers=2,\n",
        "  )"
      ],
      "execution_count": null,
      "outputs": []
    },
    {
      "cell_type": "code",
      "source": [
        "def create_data_loader_balanced(df, tokenizer, batch_size, max_len):\n",
        "    dataset = BalancedTwitterDataset(\n",
        "        df=df,\n",
        "        tokenizer=tokenizer,\n",
        "        max_len=max_len\n",
        "    )\n",
        "\n",
        "    return DataLoader(\n",
        "        dataset,\n",
        "        batch_size=batch_size,\n",
        "        num_workers=2,\n",
        "        shuffle=True if 'label' in df.columns else False\n",
        "    )"
      ],
      "metadata": {
        "id": "R1rrba54O53r"
      },
      "execution_count": null,
      "outputs": []
    },
    {
      "cell_type": "code",
      "source": [
        "print(test_df.columns)\n",
        "train_df = train_df.rename(columns={'class': 'label'})\n",
        "dev_df = dev_df.rename(columns={'class': 'label'})\n",
        "print(train_df.shape)\n",
        "print(dev_df.shape)\n",
        "print(test_df.shape)"
      ],
      "metadata": {
        "id": "UhKRUIM4K-gW",
        "outputId": "613506b2-0507-4721-c377-a8dfac0b9213",
        "colab": {
          "base_uri": "https://localhost:8080/"
        }
      },
      "execution_count": null,
      "outputs": [
        {
          "output_type": "stream",
          "name": "stdout",
          "text": [
            "Index(['id', 'tweet', 'clean_text'], dtype='object')\n",
            "(8087, 4)\n",
            "(1428, 4)\n",
            "(1504, 3)\n"
          ]
        }
      ]
    },
    {
      "cell_type": "code",
      "source": [
        "from sklearn.utils import resample\n",
        "\n",
        "# Разделяем данные на положительные и отрицательные классы\n",
        "train_positive = train_df[train_df['label'] == 1]\n",
        "train_negative = train_df[train_df['label'] == 0]\n",
        "\n",
        "# Балансируем классы (up-sampling меньшего класса)\n",
        "if len(train_positive) > len(train_negative):\n",
        "    train_negative = resample(train_negative,\n",
        "                             replace=True,  # Разрешаем повторение samples\n",
        "                             n_samples=len(train_positive),  # До количества majority class\n",
        "                             random_state=42)\n",
        "else:\n",
        "    train_positive = resample(train_positive,\n",
        "                             replace=True,\n",
        "                             n_samples=len(train_negative),\n",
        "                             random_state=42)\n",
        "\n",
        "# Объединяем и перемешиваем\n",
        "balanced_train_df = pd.concat([train_positive, train_negative]).sample(frac=1, random_state=42)\n",
        "\n",
        "# Проверяем баланс\n",
        "print(balanced_train_df['label'].value_counts())"
      ],
      "metadata": {
        "id": "SbkfoI5r6iGd",
        "outputId": "f594057a-d73d-43b7-ebd3-4ddbd225f7e4",
        "colab": {
          "base_uri": "https://localhost:8080/"
        }
      },
      "execution_count": null,
      "outputs": [
        {
          "output_type": "stream",
          "name": "stdout",
          "text": [
            "label\n",
            "1    7368\n",
            "0    7368\n",
            "Name: count, dtype: int64\n"
          ]
        }
      ]
    },
    {
      "cell_type": "code",
      "source": [
        "from sklearn.utils import resample\n",
        "\n",
        "# Разделяем данные на положительные и отрицательные классы\n",
        "train_positive = train_df[train_df['label'] == 1]\n",
        "train_negative = train_df[train_df['label'] == 0]\n",
        "\n",
        "# Балансируем классы (downsampling большего класса)\n",
        "if len(train_positive) > len(train_negative):\n",
        "    # Уменьшаем больший класс (положительный) до размера меньшего\n",
        "    train_positive = resample(train_positive,\n",
        "                             replace=False,  # Не разрешаем повторение samples\n",
        "                             n_samples=len(train_negative),  # До размера меньшего класса\n",
        "                             random_state=42)\n",
        "else:\n",
        "    # Уменьшаем больший класс (отрицательный) до размера меньшего\n",
        "    train_negative = resample(train_negative,\n",
        "                             replace=False,\n",
        "                             n_samples=len(train_positive),\n",
        "                             random_state=42)\n",
        "\n",
        "# Объединяем и перемешиваем\n",
        "balanced_train_df = pd.concat([train_positive, train_negative]).sample(frac=1, random_state=42)\n",
        "\n",
        "# Проверяем баланс\n",
        "print(\"Распределение классов после downsampling:\")\n",
        "print(balanced_train_df['label'].value_counts())"
      ],
      "metadata": {
        "id": "45PqqVjWM_sH",
        "outputId": "6a910d59-4671-48a3-950a-1710cb6df609",
        "colab": {
          "base_uri": "https://localhost:8080/"
        }
      },
      "execution_count": null,
      "outputs": [
        {
          "output_type": "stream",
          "name": "stdout",
          "text": [
            "Распределение классов после downsampling:\n",
            "label\n",
            "1    719\n",
            "0    719\n",
            "Name: count, dtype: int64\n"
          ]
        }
      ]
    },
    {
      "cell_type": "code",
      "metadata": {
        "id": "SjOKKKUgAzHt"
      },
      "source": [
        "tokenizer = AutoTokenizer.from_pretrained(PRE_TRAINED_MODEL_NAME)\n",
        "#train_data_loader = create_data_loader(train_df, tokenizer, BATCH_SIZE, train_max_len)\n",
        "train_data_loader = create_data_loader_balanced(balanced_train_df, tokenizer, BATCH_SIZE, train_max_len)\n",
        "dev_data_loader = create_data_loader(dev_df, tokenizer, BATCH_SIZE, dev_max_len)\n",
        "test_data_loader = create_data_loader(test_df, tokenizer, BATCH_SIZE, test_max_len)"
      ],
      "execution_count": null,
      "outputs": []
    },
    {
      "cell_type": "code",
      "source": [
        "from collections import Counter\n",
        "import torch\n",
        "\n",
        "def count_classes(data_loader):\n",
        "    class_counts = Counter()\n",
        "\n",
        "    for batch in data_loader:\n",
        "        # Проверяем все возможные варианты ключей\n",
        "        if 'targets' in batch:\n",
        "            targets = batch['targets']\n",
        "        elif 'labels' in batch:\n",
        "            targets = batch['labels']\n",
        "        else:\n",
        "            raise KeyError(\"Neither 'targets' nor 'labels' found in batch\")\n",
        "\n",
        "        # Конвертируем в numpy array\n",
        "        if torch.is_tensor(targets):\n",
        "            targets = targets.cpu().numpy()\n",
        "        class_counts.update(targets)\n",
        "\n",
        "    return class_counts\n",
        "\n",
        "# Создаем исправленный DataLoader\n",
        "def create_balanced_data_loader(balanced_df, tokenizer, batch_size, max_len):\n",
        "    class BalancedTwitterDataset(Dataset):\n",
        "        def __init__(self, df, tokenizer, max_len):\n",
        "            self.texts = df['clean_text'].values\n",
        "            self.labels = torch.tensor(df['label'].values, dtype=torch.long)\n",
        "            self.tokenizer = tokenizer\n",
        "            self.max_len = max_len\n",
        "\n",
        "        def __len__(self):\n",
        "            return len(self.texts)\n",
        "\n",
        "        def __getitem__(self, idx):\n",
        "            text = str(self.texts[idx])\n",
        "            encoding = self.tokenizer.encode_plus(\n",
        "                text,\n",
        "                add_special_tokens=True,\n",
        "                max_length=self.max_len,\n",
        "                padding='max_length',\n",
        "                truncation=True,\n",
        "                return_attention_mask=True,\n",
        "                return_tensors='pt',\n",
        "            )\n",
        "\n",
        "            return {\n",
        "                'input_ids': encoding['input_ids'].flatten(),\n",
        "                'attention_mask': encoding['attention_mask'].flatten(),\n",
        "                'labels': self.labels[idx]  # Используем 'labels' вместо 'targets'\n",
        "            }\n",
        "\n",
        "    dataset = BalancedTwitterDataset(balanced_df, tokenizer, max_len)\n",
        "    return DataLoader(\n",
        "        dataset,\n",
        "        batch_size=batch_size,\n",
        "        num_workers=2,\n",
        "        shuffle=True\n",
        "    )\n",
        "\n",
        "# Создаем сбалансированный DataLoader\n",
        "balanced_train_loader = create_balanced_data_loader(balanced_train_df, tokenizer, BATCH_SIZE, train_max_len)\n",
        "\n",
        "# Проверяем распределение классов\n",
        "try:\n",
        "    class_distribution = count_classes(balanced_train_loader)\n",
        "    print(\"Распределение классов после балансировки:\")\n",
        "    for class_id, count in sorted(class_distribution.items()):\n",
        "        print(f\"Класс {class_id}: {count} примеров ({(count/sum(class_distribution.values()))*100:.1f}%)\")\n",
        "except Exception as e:\n",
        "    print(f\"Ошибка при подсчете классов: {e}\")"
      ],
      "metadata": {
        "id": "DRugrFocOIDp",
        "outputId": "73f32b5f-7825-4ae8-922a-c744d7bfb115",
        "colab": {
          "base_uri": "https://localhost:8080/"
        }
      },
      "execution_count": null,
      "outputs": [
        {
          "output_type": "stream",
          "name": "stdout",
          "text": [
            "Распределение классов после балансировки:\n",
            "Класс 0: 719 примеров (50.0%)\n",
            "Класс 1: 719 примеров (50.0%)\n"
          ]
        }
      ]
    },
    {
      "cell_type": "markdown",
      "metadata": {
        "id": "SNCGGRUiwp1L"
      },
      "source": [
        "Model training"
      ]
    },
    {
      "cell_type": "code",
      "metadata": {
        "id": "L47eigNpWqqn"
      },
      "source": [
        "import torch"
      ],
      "execution_count": null,
      "outputs": []
    },
    {
      "cell_type": "code",
      "metadata": {
        "id": "r5QTi21xDOwM"
      },
      "source": [
        "n_classes = 2\n",
        "device = torch.device(\"cuda\" if torch.cuda.is_available() else \"cpu\")\n",
        "model = TwitterClassifier(n_classes)\n",
        "model = model.to(device)"
      ],
      "execution_count": null,
      "outputs": []
    },
    {
      "cell_type": "code",
      "metadata": {
        "id": "yTirMAKbwn2e"
      },
      "source": [
        "optimizer = AdamW(model.parameters(), lr=LEARNING_RATE, weight_decay=1e-4)\n",
        "total_steps = len(train_data_loader) * EPOCHS\n",
        "scheduler = get_linear_schedule_with_warmup(\n",
        "  optimizer,\n",
        "  num_warmup_steps=NUM_WARMUP_STEPS,\n",
        "  num_training_steps=total_steps\n",
        ")\n",
        "loss_fn = nn.CrossEntropyLoss().to(device)"
      ],
      "execution_count": null,
      "outputs": []
    },
    {
      "cell_type": "code",
      "source": [
        "'''\n",
        "class FocalLoss(nn.Module):\n",
        "    def __init__(self, alpha=0.25, gamma=2.0):\n",
        "        super(FocalLoss, self).__init__()\n",
        "        self.alpha = alpha\n",
        "        self.gamma = gamma\n",
        "\n",
        "    def forward(self, inputs, targets):\n",
        "        BCE_loss = F.cross_entropy(inputs, targets, reduction='none')\n",
        "        pt = torch.exp(-BCE_loss)\n",
        "        F_loss = self.alpha * (1-pt)**self.gamma * BCE_loss\n",
        "        return F_loss.mean()\n",
        "\n",
        "loss_fn = FocalLoss().to(device)\n",
        "'''"
      ],
      "metadata": {
        "id": "hyL6ySlcQEZp",
        "outputId": "2def11eb-6654-4049-cd06-c650b7aa679c",
        "colab": {
          "base_uri": "https://localhost:8080/",
          "height": 88
        }
      },
      "execution_count": null,
      "outputs": [
        {
          "output_type": "execute_result",
          "data": {
            "text/plain": [
              "\"\\nclass FocalLoss(nn.Module):\\n    def __init__(self, alpha=0.25, gamma=2.0):\\n        super(FocalLoss, self).__init__()\\n        self.alpha = alpha\\n        self.gamma = gamma\\n        \\n    def forward(self, inputs, targets):\\n        BCE_loss = F.cross_entropy(inputs, targets, reduction='none')\\n        pt = torch.exp(-BCE_loss)\\n        F_loss = self.alpha * (1-pt)**self.gamma * BCE_loss\\n        return F_loss.mean()\\n\\nloss_fn = FocalLoss().to(device)\\n\""
            ],
            "application/vnd.google.colaboratory.intrinsic+json": {
              "type": "string"
            }
          },
          "metadata": {},
          "execution_count": 421
        }
      ]
    },
    {
      "cell_type": "code",
      "metadata": {
        "id": "GgnONPoHuscw"
      },
      "source": [
        "from tqdm import tqdm\n",
        "\n",
        "def train_epoch(model, data_loader, loss_fn, optimizer, device, scheduler, n_examples):\n",
        "  model = model.train()\n",
        "  losses = []\n",
        "  correct_predictions = 0\n",
        "  for d in tqdm(data_loader):\n",
        "    input_ids = d[\"input_ids\"].to(device)\n",
        "    attention_mask = d[\"attention_mask\"].to(device)\n",
        "    targets = d[\"labels\"].to(device)\n",
        "    outputs = model(input_ids=input_ids, attention_mask=attention_mask)\n",
        "    _, preds = torch.max(outputs, dim=1)\n",
        "    loss = loss_fn(outputs, targets)\n",
        "    correct_predictions += torch.sum(preds == targets)\n",
        "    losses.append(loss.item())\n",
        "    loss.backward()\n",
        "    nn.utils.clip_grad_norm_(model.parameters(), max_norm=1.0)\n",
        "    optimizer.step()\n",
        "    scheduler.step()\n",
        "    optimizer.zero_grad()\n",
        "  return correct_predictions.double() / n_examples, np.mean(losses)"
      ],
      "execution_count": null,
      "outputs": []
    },
    {
      "cell_type": "code",
      "metadata": {
        "id": "TOYVwIHcy1zx"
      },
      "source": [
        "def eval_model(model, data_loader, loss_fn, device, n_examples):\n",
        "  model = model.eval()\n",
        "  losses = []\n",
        "  correct_predictions = 0\n",
        "  with torch.no_grad():\n",
        "    for d in data_loader:\n",
        "      input_ids = d[\"input_ids\"].to(device)\n",
        "      attention_mask = d[\"attention_mask\"].to(device)\n",
        "      targets = d[\"targets\"].to(device)\n",
        "      outputs = model(input_ids=input_ids,\n",
        "        attention_mask=attention_mask)\n",
        "      _, preds = torch.max(outputs, dim=1)\n",
        "      loss = loss_fn(outputs, targets)\n",
        "      correct_predictions += torch.sum(preds == targets)\n",
        "      losses.append(loss.item())\n",
        "  return correct_predictions.double() / n_examples, np.mean(losses)"
      ],
      "execution_count": null,
      "outputs": []
    },
    {
      "cell_type": "code",
      "source": [
        "def train_epoch(model, data_loader, loss_fn, optimizer, device, scheduler, n_examples):\n",
        "    model.train()\n",
        "    losses = []\n",
        "    correct_predictions = 0\n",
        "\n",
        "    for batch in tqdm(data_loader, desc=\"Training\"):\n",
        "        # Для сбалансированного\n",
        "        inputs = {\n",
        "            'input_ids': batch['input_ids'].to(device),\n",
        "            'attention_mask': batch['attention_mask'].to(device)\n",
        "        }\n",
        "        targets = batch['targets'].to(device)\n",
        "\n",
        "        outputs = model(**inputs)\n",
        "        _, preds = torch.max(outputs, dim=1)\n",
        "        loss = loss_fn(outputs, targets)\n",
        "\n",
        "        correct_predictions += torch.sum(preds == targets)\n",
        "        losses.append(loss.item())\n",
        "\n",
        "        loss.backward()\n",
        "        nn.utils.clip_grad_norm_(model.parameters(), max_norm=1.0)\n",
        "        optimizer.step()\n",
        "        scheduler.step()\n",
        "        optimizer.zero_grad()\n",
        "\n",
        "    accuracy = correct_predictions.double() / n_examples\n",
        "    avg_loss = np.mean(losses)\n",
        "    return accuracy, avg_loss"
      ],
      "metadata": {
        "id": "TgZdp_WwPbAp"
      },
      "execution_count": null,
      "outputs": []
    },
    {
      "cell_type": "code",
      "metadata": {
        "id": "kakZPyMvzTTz",
        "colab": {
          "base_uri": "https://localhost:8080/"
        },
        "outputId": "78d8f2d5-40c5-4551-fcc9-27f770fbe5c5"
      },
      "source": [
        "from collections import defaultdict\n",
        "import torch\n",
        "import os\n",
        "\n",
        "os.makedirs('best_models', exist_ok=True)\n",
        "\n",
        "history = defaultdict(list)\n",
        "best_accuracy = 0\n",
        "\n",
        "for epoch in range(EPOCHS):\n",
        "    print(f'Epoch {epoch + 1}/{EPOCHS}')\n",
        "    print('-' * 50)\n",
        "\n",
        "    train_acc, train_loss = train_epoch(model, train_data_loader, loss_fn, optimizer,\n",
        "                                      device, scheduler, len(train_df))\n",
        "    print(f'Train loss {train_loss:.4f} accuracy {train_acc:.4f}')\n",
        "\n",
        "    val_acc, val_loss = eval_model(model, dev_data_loader, loss_fn, device, len(dev_df))\n",
        "    print(f'Val   loss {val_loss:.4f} accuracy {val_acc:.4f}')\n",
        "    print()\n",
        "\n",
        "    history['train_acc'].append(train_acc)\n",
        "    history['train_loss'].append(train_loss)\n",
        "    history['val_acc'].append(val_acc)\n",
        "    history['val_loss'].append(val_loss)\n",
        "\n",
        "\n",
        "    if val_acc > best_accuracy:\n",
        "        best_accuracy = val_acc\n",
        "        torch.save({\n",
        "            'epoch': epoch + 1,\n",
        "            'model_state_dict': model.state_dict(),\n",
        "            'optimizer_state_dict': optimizer.state_dict(),\n",
        "            'loss': val_loss,\n",
        "            'accuracy': val_acc,\n",
        "        }, f'best_models/best_model_epoch_{epoch+1}.pt')\n",
        "\n",
        "        print(f'New best model saved with val_accuracy: {val_acc:.4f}')"
      ],
      "execution_count": null,
      "outputs": [
        {
          "output_type": "stream",
          "name": "stdout",
          "text": [
            "Epoch 1/6\n",
            "--------------------------------------------------\n"
          ]
        },
        {
          "output_type": "stream",
          "name": "stderr",
          "text": [
            "Training: 100%|██████████| 45/45 [00:29<00:00,  1.52it/s]\n"
          ]
        },
        {
          "output_type": "stream",
          "name": "stdout",
          "text": [
            "Train loss 0.6402 accuracy 0.1102\n",
            "Val   loss 0.5626 accuracy 0.7234\n",
            "\n",
            "New best model saved with val_accuracy: 0.7234\n",
            "Epoch 2/6\n",
            "--------------------------------------------------\n"
          ]
        },
        {
          "output_type": "stream",
          "name": "stderr",
          "text": [
            "Training: 100%|██████████| 45/45 [00:28<00:00,  1.57it/s]\n"
          ]
        },
        {
          "output_type": "stream",
          "name": "stdout",
          "text": [
            "Train loss 0.4492 accuracy 0.1413\n",
            "Val   loss 0.5707 accuracy 0.7409\n",
            "\n",
            "New best model saved with val_accuracy: 0.7409\n",
            "Epoch 3/6\n",
            "--------------------------------------------------\n"
          ]
        },
        {
          "output_type": "stream",
          "name": "stderr",
          "text": [
            "Training: 100%|██████████| 45/45 [00:29<00:00,  1.55it/s]\n"
          ]
        },
        {
          "output_type": "stream",
          "name": "stdout",
          "text": [
            "Train loss 0.3149 accuracy 0.1562\n",
            "Val   loss 0.4872 accuracy 0.7976\n",
            "\n",
            "New best model saved with val_accuracy: 0.7976\n",
            "Epoch 4/6\n",
            "--------------------------------------------------\n"
          ]
        },
        {
          "output_type": "stream",
          "name": "stderr",
          "text": [
            "Training: 100%|██████████| 45/45 [00:28<00:00,  1.56it/s]\n"
          ]
        },
        {
          "output_type": "stream",
          "name": "stdout",
          "text": [
            "Train loss 0.2203 accuracy 0.1657\n",
            "Val   loss 0.5067 accuracy 0.8046\n",
            "\n",
            "New best model saved with val_accuracy: 0.8046\n",
            "Epoch 5/6\n",
            "--------------------------------------------------\n"
          ]
        },
        {
          "output_type": "stream",
          "name": "stderr",
          "text": [
            "Training: 100%|██████████| 45/45 [00:28<00:00,  1.56it/s]\n"
          ]
        },
        {
          "output_type": "stream",
          "name": "stdout",
          "text": [
            "Train loss 0.1543 accuracy 0.1695\n",
            "Val   loss 0.6719 accuracy 0.7626\n",
            "\n",
            "Epoch 6/6\n",
            "--------------------------------------------------\n"
          ]
        },
        {
          "output_type": "stream",
          "name": "stderr",
          "text": [
            "Training: 100%|██████████| 45/45 [00:28<00:00,  1.57it/s]\n"
          ]
        },
        {
          "output_type": "stream",
          "name": "stdout",
          "text": [
            "Train loss 0.1072 accuracy 0.1726\n",
            "Val   loss 0.6261 accuracy 0.7871\n",
            "\n"
          ]
        }
      ]
    },
    {
      "cell_type": "code",
      "source": [
        "history['train_acc'] = [train_acc.cpu() for train_acc in history['train_acc']]\n",
        "history['val_acc'] = [val_acc.cpu() for val_acc in history['val_acc']]"
      ],
      "metadata": {
        "id": "SIFf_8M55ej2"
      },
      "execution_count": null,
      "outputs": []
    },
    {
      "cell_type": "code",
      "metadata": {
        "colab": {
          "base_uri": "https://localhost:8080/",
          "height": 472
        },
        "outputId": "a6d457ff-f40c-428b-a3d7-55c43503b741",
        "id": "eIWi0p1V5cA6"
      },
      "source": [
        "import matplotlib.pyplot as plt\n",
        "\n",
        "plt.plot(history['train_acc'], label='train accuracy')\n",
        "plt.plot(history['val_acc'], label='validation accuracy')\n",
        "plt.title('Training history')\n",
        "plt.ylabel('Accuracy')\n",
        "plt.xlabel('Epoch')\n",
        "plt.legend()\n",
        "plt.ylim([0, 1]);"
      ],
      "execution_count": null,
      "outputs": [
        {
          "output_type": "display_data",
          "data": {
            "text/plain": [
              "<Figure size 640x480 with 1 Axes>"
            ],
            "image/png": "[encoded data removed]"
          },
          "metadata": {}
        }
      ]
    },
    {
      "cell_type": "markdown",
      "metadata": {
        "id": "Kms46cam67I_"
      },
      "source": [
        "### Calculating dev and test precision, recall, f1-score and ROC_AUC:"
      ]
    },
    {
      "cell_type": "code",
      "source": [
        "checkpoint = torch.load(f\"/content/best_models/best_model_epoch_4.pt\", weights_only=False)\n",
        "model.load_state_dict(checkpoint['model_state_dict'])"
      ],
      "metadata": {
        "id": "4O9Cbkcz5gnz"
      },
      "execution_count": null,
      "outputs": []
    },
    {
      "cell_type": "code",
      "metadata": {
        "id": "_1uz-Ucwz-AN"
      },
      "source": [
        "import torch.nn.functional as F\n",
        "\n",
        "def get_predictions(model, data_loader):\n",
        "  model = model.eval()\n",
        "  tweet_ids = []\n",
        "  predictions = []\n",
        "  prediction_probs = []\n",
        "  real_values = []\n",
        "  with torch.no_grad():\n",
        "    for d in data_loader:\n",
        "      ids = d[\"id\"]\n",
        "      input_ids = d[\"input_ids\"].to(device)\n",
        "      attention_mask = d[\"attention_mask\"].to(device)\n",
        "      outputs = F.softmax(model(\n",
        "        input_ids=input_ids,\n",
        "        attention_mask=attention_mask\n",
        "      ))\n",
        "      _, preds = torch.max(outputs, dim=1)\n",
        "      tweet_ids.extend(ids)\n",
        "      predictions.extend(preds)\n",
        "      prediction_probs.extend(outputs)\n",
        "  predictions = torch.stack(predictions).cpu()\n",
        "  prediction_probs = torch.stack(prediction_probs).cpu()\n",
        "  return tweet_ids, predictions, prediction_probs"
      ],
      "execution_count": null,
      "outputs": []
    },
    {
      "cell_type": "code",
      "metadata": {
        "id": "gHppSc1b67JA",
        "colab": {
          "base_uri": "https://localhost:8080/"
        },
        "outputId": "2beb3899-ff57-420c-8c6d-0e34e9bf882d"
      },
      "source": [
        "from sklearn.metrics import precision_score, recall_score, f1_score, roc_auc_score, classification_report\n",
        "\n",
        "tweet_ids, predicted_dev_labels, prediction_probs = get_predictions(model,dev_data_loader)\n",
        "dev_labels = dev_df.label\n",
        "dev_precision = precision_score(dev_labels, predicted_dev_labels)\n",
        "dev_recall = recall_score(dev_labels, predicted_dev_labels)\n",
        "dev_f_measure = f1_score(dev_labels, predicted_dev_labels)\n",
        "dev_roc_auc = roc_auc_score(dev_labels, predicted_dev_labels)\n",
        "print(f\"Dev:\\nPrecision: {dev_precision}\\n\"\n",
        "        f\"Recall: {dev_recall}\\n\"\n",
        "        f\"F-measure: {dev_f_measure}\\n\"\n",
        "        f\"ROC_AUC: {dev_roc_auc}\")\n",
        "print(classification_report(dev_labels, predicted_dev_labels))"
      ],
      "execution_count": null,
      "outputs": [
        {
          "output_type": "stream",
          "name": "stderr",
          "text": [
            "<ipython-input-210-6dd398b3003a>:14: UserWarning: Implicit dimension choice for softmax has been deprecated. Change the call to include dim=X as an argument.\n",
            "  outputs = F.softmax(model(\n"
          ]
        },
        {
          "output_type": "stream",
          "name": "stdout",
          "text": [
            "Dev:\n",
            "Precision: 0.5128205128205128\n",
            "Recall: 0.5309734513274337\n",
            "F-measure: 0.5217391304347826\n",
            "ROC_AUC: 0.7438137218614354\n",
            "              precision    recall  f1-score   support\n",
            "\n",
            "           0       0.96      0.96      0.96      1315\n",
            "           1       0.51      0.53      0.52       113\n",
            "\n",
            "    accuracy                           0.92      1428\n",
            "   macro avg       0.74      0.74      0.74      1428\n",
            "weighted avg       0.92      0.92      0.92      1428\n",
            "\n"
          ]
        }
      ]
    },
    {
      "cell_type": "code",
      "metadata": {
        "id": "9O5TLAzABFb9",
        "colab": {
          "base_uri": "https://localhost:8080/"
        },
        "outputId": "e2723199-8eb4-427d-9be9-38d0616b7529"
      },
      "source": [
        "tweet_ids, predicted_test_labels, prediction_probs = get_predictions(model, test_data_loader)\n",
        "\n",
        "df_submit = pd.DataFrame(columns=[\"id\", \"class\"])\n",
        "df_submit[\"id\"] = test_df['id'].values\n",
        "# df_submit[\"class\"] = [float(x[1]) for x in prediction_probs]\n",
        "df_submit[\"class\"] = [x.item() for x in predicted_test_labels]\n",
        "df_submit.to_csv(\"solution.csv\", sep=\",\", index=False)"
      ],
      "execution_count": null,
      "outputs": [
        {
          "output_type": "stream",
          "name": "stderr",
          "text": [
            "<ipython-input-428-6dd398b3003a>:14: UserWarning: Implicit dimension choice for softmax has been deprecated. Change the call to include dim=X as an argument.\n",
            "  outputs = F.softmax(model(\n"
          ]
        }
      ]
    }
  ]
}